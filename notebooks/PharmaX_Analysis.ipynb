{
  "cells": [
    {
      "cell_type": "markdown",
      "metadata": {},
      "source": [
        "# 💊 PharmaX Analysis - Medical Prescription & Reimbursement (France, 2023)"
      ]
    },
    {
      "cell_type": "code",
      "execution_count": null,
      "metadata": {},
      "outputs": [],
      "source": [
        "import pandas as pd\n",
        "import matplotlib.pyplot as plt\n",
        "import seaborn as sns\n",
        "import matplotlib.ticker as mtick\n",
        "import os"
      ]
    },
    {
      "cell_type": "code",
      "execution_count": null,
      "metadata": {},
      "outputs": [],
      "source": [
        "# Load and prepare data\n",
        "file_path = 'data/open_medic_2023.csv'\n",
        "df = pd.read_csv(file_path, encoding='ISO-8859-1', sep=';')\n",
        "df.rename(columns={\n",
        "    'l_cip13': 'medication',\n",
        "    'BOITES': 'boxes',\n",
        "    'REM': 'reimbursement',\n",
        "    'age': 'age',\n",
        "    'sexe': 'gender',\n",
        "    'BEN_REG': 'region'\n",
        "}, inplace=True)\n",
        "df = df[['medication', 'boxes', 'reimbursement', 'age', 'gender', 'region']]\n",
        "df.dropna(inplace=True)"
      ]
    },
    {
      "cell_type": "markdown",
      "metadata": {},
      "source": [
        "## Data Loading & Preparation\n",
        "We load the dataset and rename key columns for clarity. Missing values are dropped, and data types are adjusted (e.g., decimal commas to dots for numeric conversion)."
      ]
    },
    {
      "cell_type": "code",
      "execution_count": null,
      "metadata": {},
      "outputs": [],
      "source": [
        "# Convert reimbursement to float (handle commas)\n",
        "df['reimbursement'] = df['reimbursement'].astype(str).str.replace(',', '.')\n",
        "df['reimbursement'] = pd.to_numeric(df['reimbursement'], errors='coerce')\n",
        "print(\"Sample reimbursement values:\", df['reimbursement'].head())\n",
        "print(\"Total reimbursement sum:\", df['reimbursement'].sum())"
      ]
    },
    {
      "cell_type": "markdown",
      "metadata": {},
      "source": [
        "## Regional Analysis - Prescriptions and Reimbursements\n",
        "We analyze the distribution of prescriptions and reimbursements by region across France. We use the `BEN_REG` field to map regional codes to readable names."
      ]
    },
    {
      "cell_type": "code",
      "execution_count": null,
      "metadata": {},
      "outputs": [],
      "source": [
        "# Map region codes to names\n",
        "region_map = {\n",
        "    11: 'Île-de-France', 24: 'Centre-Val de Loire', 27: 'Bourgogne-Franche-Comté',\n",
        "    28: 'Normandie', 32: 'Hauts-de-France', 44: 'Grand Est',\n",
        "    52: 'Pays de la Loire', 53: 'Bretagne', 75: 'Nouvelle-Aquitaine',\n",
        "    76: 'Occitanie', 84: 'Auvergne-Rhône-Alpes', 93: 'PACA', 94: 'Corse'\n",
        "}\n",
        "df['region_name'] = df['region'].map(region_map)"
      ]
    },
    {
      "cell_type": "markdown",
      "metadata": {},
      "source": [
        "## Top Reimbursed Medications\n",
        "We group data by medication name and calculate total reimbursement. The top 10 medications that cost the most in reimbursements are visualized."
      ]
    },
    {
      "cell_type": "code",
      "execution_count": null,
      "metadata": {},
      "outputs": [],
      "source": [
        "# Top 10 reimbursed medications\n",
        "top_reimbursed = df.groupby('medication')['reimbursement'].sum().sort_values(ascending=False).head(10)\n",
        "plt.figure(figsize=(10, 5))\n",
        "sns.barplot(x=top_reimbursed.values, y=top_reimbursed.index, palette='crest')\n",
        "plt.title('Top 10 Reimbursed Medications (France, 2023)')\n",
        "plt.xlabel('Total Reimbursement (€)')\n",
        "plt.ylabel('Medication')\n",
        "plt.tight_layout()\n",
        "plt.savefig('assets/top_10_reimbursed_meds.png')\n",
        "plt.show()"
      ]
    },
    {
      "cell_type": "markdown",
      "metadata": {},
      "source": [
        "## Regional Analysis - Prescriptions and Reimbursements\n",
        "We analyze the distribution of prescriptions and reimbursements by region across France. We use the `BEN_REG` field to map regional codes to readable names.\n",
        "- **Prescriptions by Region**: Shows where the highest volume of medications is prescribed.\n",
        "- **Reimbursements by Region**: Displays where the most reimbursement money is allocated."
      ]
    },
    {
      "cell_type": "code",
      "execution_count": null,
      "metadata": {},
      "outputs": [],
      "source": [
        "# Reimbursement by region\n",
        "reimbursement_summary = df.groupby('region_name')['reimbursement'].sum().sort_values(ascending=False)\n",
        "plt.figure(figsize=(10, 6))\n",
        "sns.barplot(x=reimbursement_summary.values, y=reimbursement_summary.index, palette='rocket')\n",
        "plt.gca().xaxis.set_major_formatter(mtick.FuncFormatter(lambda x, _: f'{x/1e6:.1f}M€'))\n",
        "plt.title('Total Reimbursement by Region (France, 2023)')\n",
        "plt.xlabel('Reimbursement Amount (in millions €)')\n",
        "plt.ylabel('Region')\n",
        "plt.tight_layout()\n",
        "plt.savefig('assets/reimbursement_by_region.png')\n",
        "plt.show()"
      ]
    },
    {
      "cell_type": "code",
      "execution_count": null,
      "metadata": {},
      "outputs": [],
      "source": [
        "# Prescriptions by region\n",
        "region_summary = df.groupby('region_name')[['boxes', 'reimbursement']].sum().sort_values(by='boxes', ascending=False)\n",
        "plt.figure(figsize=(10, 6))\n",
        "sns.barplot(x=region_summary['boxes'], y=region_summary.index, palette='mako')\n",
        "plt.gca().xaxis.set_major_formatter(mtick.FuncFormatter(lambda x, _: f'{int(x/1e6)}M'))\n",
        "plt.title('Total Prescriptions by Region (France, 2023)')\n",
        "plt.xlabel('Number of Boxes (in millions)')\n",
        "plt.ylabel('Region')\n",
        "plt.tight_layout()\n",
        "plt.savefig('assets/prescriptions_by_region.png')\n",
        "plt.show()"
      ]
    },
    {
      "cell_type": "markdown",
      "metadata": {},
      "source": [
        "## Most Prescribed Medications\n",
        "Which drugs are prescribed the most? This section ranks medications by the number of boxes distributed."
      ]
    },
    {
      "cell_type": "code",
      "execution_count": null,
      "metadata": {},
      "outputs": [],
      "source": [
        "# Top 10 most prescribed medications\n",
        "top_meds = df.groupby('medication')['boxes'].sum().sort_values(ascending=False).head(10)\n",
        "plt.figure(figsize=(10, 5))\n",
        "sns.barplot(x=top_meds.values, y=top_meds.index, palette='crest')\n",
        "plt.title('Top 10 Most Prescribed Medications (France, 2023)')\n",
        "plt.xlabel('Number of Boxes')\n",
        "plt.ylabel('Medication')\n",
        "plt.tight_layout()\n",
        "plt.savefig('assets/top_10_meds.png')\n",
        "plt.show()"
      ]
    },
    {
      "cell_type": "markdown",
      "metadata": {},
      "source": [
        "## Summary\n",
        "- Dataset: `open_medic_2023.csv`\n",
        "- Analysis Scope: France, 2023\n",
        "- Fields analyzed: `region`, `medication`, `reimbursement`, `boxes`\n",
        "- Outputs: Graphs highlighting regional disparities and top drugs (by usage and cost)\n",
        "\n",
        "This notebook offers valuable insights into the landscape of prescription drugs and healthcare reimbursement in France for 2023."
      ]
    }
  ],
  "metadata": {
    "kernelspec": {
      "display_name": "Python 3",
      "language": "python",
      "name": "python3"
    },
    "language_info": {
      "name": "python",
      "version": "3.10"
    }
  },
  "nbformat": 4,
  "nbformat_minor": 2
}
