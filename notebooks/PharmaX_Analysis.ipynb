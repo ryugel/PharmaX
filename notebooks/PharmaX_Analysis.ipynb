{
  "cells": [
    {
      "cell_type": "markdown",
      "metadata": {},
      "source": [
        "# \ud83d\udc8a PharmaX Analysis - Medical Prescription & Reimbursement (France, 2023)"
      ]
    },
    {
      "cell_type": "code",
      "execution_count": null,
      "metadata": {},
      "outputs": [],
      "source": [
        "import pandas as pd\n",
        "import matplotlib.pyplot as plt\n",
        "import seaborn as sns\n",
        "import matplotlib.ticker as mtick\n",
        "import os"
      ]
    },
    {
      "cell_type": "code",
      "execution_count": null,
      "metadata": {},
      "outputs": [],
      "source": [
        "# Load and prepare data\n",
        "file_path = 'data/open_medic_2023.csv'\n",
        "df = pd.read_csv(file_path, encoding='ISO-8859-1', sep=';')\n",
        "df.rename(columns={\n",
        "    'l_cip13': 'medication',\n",
        "    'BOITES': 'boxes',\n",
        "    'REM': 'reimbursement',\n",
        "    'age': 'age',\n",
        "    'sexe': 'gender',\n",
        "    'BEN_REG': 'region'\n",
        "}, inplace=True)\n",
        "df = df[['medication', 'boxes', 'reimbursement', 'age', 'gender', 'region']]\n",
        "df.dropna(inplace=True)"
      ]
    },
    {
      "cell_type": "code",
      "execution_count": null,
      "metadata": {},
      "outputs": [],
      "source": [
        "# Convert reimbursement to float (handle commas)\n",
        "df['reimbursement'] = df['reimbursement'].astype(str).str.replace(',', '.')\n",
        "df['reimbursement'] = pd.to_numeric(df['reimbursement'], errors='coerce')\n",
        "print(\"Sample reimbursement values:\", df['reimbursement'].head())\n",
        "print(\"Total reimbursement sum:\", df['reimbursement'].sum())"
      ]
    },
    {
      "cell_type": "code",
      "execution_count": null,
      "metadata": {},
      "outputs": [],
      "source": [
        "# Map region codes to names\n",
        "region_map = {\n",
        "    11: '\u00cele-de-France', 24: 'Centre-Val de Loire', 27: 'Bourgogne-Franche-Comt\u00e9',\n",
        "    28: 'Normandie', 32: 'Hauts-de-France', 44: 'Grand Est',\n",
        "    52: 'Pays de la Loire', 53: 'Bretagne', 75: 'Nouvelle-Aquitaine',\n",
        "    76: 'Occitanie', 84: 'Auvergne-Rh\u00f4ne-Alpes', 93: 'PACA', 94: 'Corse'\n",
        "}\n",
        "df['region_name'] = df['region'].map(region_map)"
      ]
    },
    {
      "cell_type": "code",
      "execution_count": null,
      "metadata": {},
      "outputs": [],
      "source": [
        "# Top 10 reimbursed medications\n",
        "top_reimbursed = df.groupby('medication')['reimbursement'].sum().sort_values(ascending=False).head(10)\n",
        "plt.figure(figsize=(10, 5))\n",
        "sns.barplot(x=top_reimbursed.values, y=top_reimbursed.index, palette='crest')\n",
        "plt.title('Top 10 Reimbursed Medications (France, 2023)')\n",
        "plt.xlabel('Total Reimbursement (\u20ac)')\n",
        "plt.ylabel('Medication')\n",
        "plt.tight_layout()\n",
        "plt.savefig('assets/top_10_reimbursed_meds.png')\n",
        "plt.show()"
      ]
    },
    {
      "cell_type": "code",
      "execution_count": null,
      "metadata": {},
      "outputs": [],
      "source": [
        "# Reimbursement by region\n",
        "reimbursement_summary = df.groupby('region_name')['reimbursement'].sum().sort_values(ascending=False)\n",
        "plt.figure(figsize=(10, 6))\n",
        "sns.barplot(x=reimbursement_summary.values, y=reimbursement_summary.index, palette='rocket')\n",
        "plt.gca().xaxis.set_major_formatter(mtick.FuncFormatter(lambda x, _: f'{x/1e6:.1f}M\u20ac'))\n",
        "plt.title('Total Reimbursement by Region (France, 2023)')\n",
        "plt.xlabel('Reimbursement Amount (in millions \u20ac)')\n",
        "plt.ylabel('Region')\n",
        "plt.tight_layout()\n",
        "plt.savefig('assets/reimbursement_by_region.png')\n",
        "plt.show()"
      ]
    },
    {
      "cell_type": "code",
      "execution_count": null,
      "metadata": {},
      "outputs": [],
      "source": [
        "# Prescriptions by region\n",
        "region_summary = df.groupby('region_name')[['boxes', 'reimbursement']].sum().sort_values(by='boxes', ascending=False)\n",
        "plt.figure(figsize=(10, 6))\n",
        "sns.barplot(x=region_summary['boxes'], y=region_summary.index, palette='mako')\n",
        "plt.gca().xaxis.set_major_formatter(mtick.FuncFormatter(lambda x, _: f'{int(x/1e6)}M'))\n",
        "plt.title('Total Prescriptions by Region (France, 2023)')\n",
        "plt.xlabel('Number of Boxes (in millions)')\n",
        "plt.ylabel('Region')\n",
        "plt.tight_layout()\n",
        "plt.savefig('assets/prescriptions_by_region.png')\n",
        "plt.show()"
      ]
    },
    {
      "cell_type": "code",
      "execution_count": null,
      "metadata": {},
      "outputs": [],
      "source": [
        "# Top 10 most prescribed medications\n",
        "top_meds = df.groupby('medication')['boxes'].sum().sort_values(ascending=False).head(10)\n",
        "plt.figure(figsize=(10, 5))\n",
        "sns.barplot(x=top_meds.values, y=top_meds.index, palette='crest')\n",
        "plt.title('Top 10 Most Prescribed Medications (France, 2023)')\n",
        "plt.xlabel('Number of Boxes')\n",
        "plt.ylabel('Medication')\n",
        "plt.tight_layout()\n",
        "plt.savefig('assets/top_10_meds.png')\n",
        "plt.show()"
      ]
    }
  ],
  "metadata": {
    "kernelspec": {
      "display_name": "Python 3",
      "language": "python",
      "name": "python3"
    },
    "language_info": {
      "name": "python",
      "version": "3.10"
    }
  },
  "nbformat": 4,
  "nbformat_minor": 2
}